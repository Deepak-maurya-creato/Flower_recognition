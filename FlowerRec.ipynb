{
 "cells": [
  {
   "cell_type": "code",
   "execution_count": 18,
   "id": "e81ab566",
   "metadata": {},
   "outputs": [],
   "source": [
    "import numpy as np\n",
    "import tensorflow as tf\n",
    "from keras.preprocessing.image import ImageDataGenerator"
   ]
  },
  {
   "cell_type": "code",
   "execution_count": 19,
   "id": "b6671423",
   "metadata": {},
   "outputs": [
    {
     "name": "stdout",
     "output_type": "stream",
     "text": [
      "Found 3393 images belonging to 5 classes.\n"
     ]
    }
   ],
   "source": [
    "train_datagen = ImageDataGenerator(\n",
    "        rescale=1./255,\n",
    "        shear_range=0.2,\n",
    "        zoom_range=0.2,\n",
    "        horizontal_flip=True)\n",
    "training_set = train_datagen.flow_from_directory(\n",
    "        'training_set',\n",
    "        target_size=(64, 64),\n",
    "        batch_size=32,\n",
    "        class_mode='categorical')"
   ]
  },
  {
   "cell_type": "code",
   "execution_count": 20,
   "id": "a240c206",
   "metadata": {},
   "outputs": [
    {
     "name": "stdout",
     "output_type": "stream",
     "text": [
      "Found 1225 images belonging to 5 classes.\n"
     ]
    }
   ],
   "source": [
    "test_datagen = ImageDataGenerator(rescale=1./255)\n",
    "test_set = test_datagen.flow_from_directory(\n",
    "        'test_set',\n",
    "        target_size=(64, 64),\n",
    "        batch_size=32,\n",
    "        class_mode='categorical')"
   ]
  },
  {
   "cell_type": "code",
   "execution_count": 21,
   "id": "6c36d725",
   "metadata": {},
   "outputs": [],
   "source": [
    "cnn = tf.keras.models.Sequential()\n"
   ]
  },
  {
   "cell_type": "code",
   "execution_count": 22,
   "id": "d42f493d",
   "metadata": {},
   "outputs": [],
   "source": [
    "cnn.add(tf.keras.layers.Conv2D(filters=64 , kernel_size=3 , activation='relu' , input_shape=[64,64,3]))\n",
    "cnn.add(tf.keras.layers.MaxPool2D(pool_size=2,strides=2))"
   ]
  },
  {
   "cell_type": "code",
   "execution_count": 23,
   "id": "be3900ed",
   "metadata": {},
   "outputs": [],
   "source": [
    "cnn.add(tf.keras.layers.Dropout(0.5))\n"
   ]
  },
  {
   "cell_type": "code",
   "execution_count": 24,
   "id": "5a776a1f",
   "metadata": {},
   "outputs": [],
   "source": [
    "cnn.add(tf.keras.layers.Flatten())"
   ]
  },
  {
   "cell_type": "code",
   "execution_count": 25,
   "id": "2579f0d9",
   "metadata": {},
   "outputs": [],
   "source": [
    "cnn.add(tf.keras.layers.Dense(units=128, activation='relu'))"
   ]
  },
  {
   "cell_type": "code",
   "execution_count": 26,
   "id": "72b2c490",
   "metadata": {},
   "outputs": [],
   "source": [
    "cnn.add(tf.keras.layers.Dense(units=5 , activation='softmax'))"
   ]
  },
  {
   "cell_type": "code",
   "execution_count": 27,
   "id": "af8a1f06",
   "metadata": {},
   "outputs": [],
   "source": [
    "cnn.compile(optimizer = 'rmsprop' , loss = 'categorical_crossentropy' , metrics = ['accuracy'])"
   ]
  },
  {
   "cell_type": "code",
   "execution_count": 28,
   "id": "18cb7581",
   "metadata": {},
   "outputs": [
    {
     "name": "stdout",
     "output_type": "stream",
     "text": [
      "Epoch 1/30\n",
      "107/107 [==============================] - 24s 219ms/step - loss: 2.0695 - accuracy: 0.3982 - val_loss: 1.1663 - val_accuracy: 0.5216\n",
      "Epoch 2/30\n",
      "107/107 [==============================] - 23s 216ms/step - loss: 1.1380 - accuracy: 0.5414 - val_loss: 1.0925 - val_accuracy: 0.5567\n",
      "Epoch 3/30\n",
      "107/107 [==============================] - 26s 241ms/step - loss: 1.0459 - accuracy: 0.5962 - val_loss: 1.0153 - val_accuracy: 0.6057\n",
      "Epoch 4/30\n",
      "107/107 [==============================] - 30s 284ms/step - loss: 0.9712 - accuracy: 0.6216 - val_loss: 0.9456 - val_accuracy: 0.6327\n",
      "Epoch 5/30\n",
      "107/107 [==============================] - 27s 249ms/step - loss: 0.9292 - accuracy: 0.6345 - val_loss: 0.8565 - val_accuracy: 0.6808\n",
      "Epoch 6/30\n",
      "107/107 [==============================] - 25s 231ms/step - loss: 0.9117 - accuracy: 0.6575 - val_loss: 0.8733 - val_accuracy: 0.6702\n",
      "Epoch 7/30\n",
      "107/107 [==============================] - 30s 278ms/step - loss: 0.8495 - accuracy: 0.6802 - val_loss: 0.8455 - val_accuracy: 0.6906\n",
      "Epoch 8/30\n",
      "107/107 [==============================] - 27s 251ms/step - loss: 0.8197 - accuracy: 0.6879 - val_loss: 0.7209 - val_accuracy: 0.7314\n",
      "Epoch 9/30\n",
      "107/107 [==============================] - 28s 261ms/step - loss: 0.7940 - accuracy: 0.7026 - val_loss: 0.8184 - val_accuracy: 0.6841\n",
      "Epoch 10/30\n",
      "107/107 [==============================] - 24s 224ms/step - loss: 0.7710 - accuracy: 0.7118 - val_loss: 0.7360 - val_accuracy: 0.7363\n",
      "Epoch 11/30\n",
      "107/107 [==============================] - 24s 220ms/step - loss: 0.7423 - accuracy: 0.7185 - val_loss: 0.7048 - val_accuracy: 0.7412\n",
      "Epoch 12/30\n",
      "107/107 [==============================] - 26s 243ms/step - loss: 0.7181 - accuracy: 0.7247 - val_loss: 0.6349 - val_accuracy: 0.7690\n",
      "Epoch 13/30\n",
      "107/107 [==============================] - 27s 252ms/step - loss: 0.6929 - accuracy: 0.7356 - val_loss: 0.6501 - val_accuracy: 0.7706\n",
      "Epoch 14/30\n",
      "107/107 [==============================] - 26s 241ms/step - loss: 0.6761 - accuracy: 0.7492 - val_loss: 0.6469 - val_accuracy: 0.7657\n",
      "Epoch 15/30\n",
      "107/107 [==============================] - 31s 292ms/step - loss: 0.6702 - accuracy: 0.7627 - val_loss: 0.6508 - val_accuracy: 0.7576\n",
      "Epoch 16/30\n",
      "107/107 [==============================] - 33s 308ms/step - loss: 0.6428 - accuracy: 0.7648 - val_loss: 0.7036 - val_accuracy: 0.7633\n",
      "Epoch 17/30\n",
      "107/107 [==============================] - 30s 284ms/step - loss: 0.6476 - accuracy: 0.7710 - val_loss: 0.6134 - val_accuracy: 0.7673\n",
      "Epoch 18/30\n",
      "107/107 [==============================] - 30s 284ms/step - loss: 0.6111 - accuracy: 0.7731 - val_loss: 0.5711 - val_accuracy: 0.7943\n",
      "Epoch 19/30\n",
      "107/107 [==============================] - 25s 236ms/step - loss: 0.6036 - accuracy: 0.7801 - val_loss: 0.4886 - val_accuracy: 0.8122\n",
      "Epoch 20/30\n",
      "107/107 [==============================] - 25s 232ms/step - loss: 0.5775 - accuracy: 0.7840 - val_loss: 0.5140 - val_accuracy: 0.8098\n",
      "Epoch 21/30\n",
      "107/107 [==============================] - 25s 231ms/step - loss: 0.5603 - accuracy: 0.7999 - val_loss: 0.5869 - val_accuracy: 0.7673\n",
      "Epoch 22/30\n",
      "107/107 [==============================] - 25s 235ms/step - loss: 0.5434 - accuracy: 0.7943 - val_loss: 0.5117 - val_accuracy: 0.8114\n",
      "Epoch 23/30\n",
      "107/107 [==============================] - 26s 242ms/step - loss: 0.5368 - accuracy: 0.7993 - val_loss: 0.4325 - val_accuracy: 0.8416\n",
      "Epoch 24/30\n",
      "107/107 [==============================] - 27s 252ms/step - loss: 0.5406 - accuracy: 0.8055 - val_loss: 0.4378 - val_accuracy: 0.8384\n",
      "Epoch 25/30\n",
      "107/107 [==============================] - 25s 238ms/step - loss: 0.5200 - accuracy: 0.8126 - val_loss: 0.5057 - val_accuracy: 0.8351\n",
      "Epoch 26/30\n",
      "107/107 [==============================] - 25s 232ms/step - loss: 0.5063 - accuracy: 0.8249 - val_loss: 0.3657 - val_accuracy: 0.8735\n",
      "Epoch 27/30\n",
      "107/107 [==============================] - 23s 218ms/step - loss: 0.4842 - accuracy: 0.8326 - val_loss: 0.4742 - val_accuracy: 0.8335\n",
      "Epoch 28/30\n",
      "107/107 [==============================] - 23s 219ms/step - loss: 0.4662 - accuracy: 0.8320 - val_loss: 0.4299 - val_accuracy: 0.8376\n",
      "Epoch 29/30\n",
      "107/107 [==============================] - 24s 222ms/step - loss: 0.4783 - accuracy: 0.8302 - val_loss: 0.4382 - val_accuracy: 0.8482\n",
      "Epoch 30/30\n",
      "107/107 [==============================] - 26s 240ms/step - loss: 0.4502 - accuracy: 0.8376 - val_loss: 0.2964 - val_accuracy: 0.8857\n"
     ]
    },
    {
     "data": {
      "text/plain": [
       "<keras.callbacks.History at 0x1fa84e59040>"
      ]
     },
     "execution_count": 28,
     "metadata": {},
     "output_type": "execute_result"
    }
   ],
   "source": [
    "cnn.fit(x = training_set , validation_data = test_set , epochs = 30)"
   ]
  },
  {
   "cell_type": "code",
   "execution_count": 29,
   "id": "b85375f4",
   "metadata": {},
   "outputs": [],
   "source": [
    "from tensorflow.keras.preprocessing import image\n",
    "import cv2\n",
    "# tf.keras.utils.load_img"
   ]
  },
  {
   "cell_type": "code",
   "execution_count": 33,
   "id": "45ceac3a",
   "metadata": {},
   "outputs": [
    {
     "name": "stdout",
     "output_type": "stream",
     "text": [
      "1/1 [==============================] - 0s 26ms/step\n"
     ]
    }
   ],
   "source": [
    "cap = cv2.VideoCapture(0)\n",
    "\n",
    "while True:\n",
    "    _,Image = cap.read()\n",
    "    cv2.imshow('Flower Detection', Image)\n",
    "    if cv2.waitKey(1) & 0xFF == ord('s'):\n",
    "        cv2.imwrite('prediction/test.jpg', Image)\n",
    "        break\n",
    "cap.release()\n",
    "cv2.destroyAllWindows()\n",
    "\n",
    "\n",
    "\n",
    "cap2 = cv2.VideoCapture(0)\n",
    "\n",
    "test_image = image.load_img('prediction/test.jpg',target_size=(64,64))\n",
    "test_image = image.img_to_array(test_image)\n",
    "test_image = np.expand_dims(test_image,axis=0)\n",
    "result = cnn.predict(test_image)\n",
    "training_set.class_indices\n",
    "\n",
    "org = (112, 112)\n",
    "while True:\n",
    "    ret, frame = cap2.read()\n",
    "    frame = cv2.resize(frame, (350, 400))\n",
    "    \n",
    "    if result[0][0]==1:\n",
    "        textd = cv2.putText(frame, \"Daisy flower\",org, cv2.FONT_HERSHEY_COMPLEX, 1, (255, 255, 255), 2)\n",
    "        cv2.imshow('Flower Detection', textd)\n",
    "        \n",
    "    elif result[0][1]==1:\n",
    "        textda = cv2.putText(frame, \"Dandelions Flower\",org, cv2.FONT_HERSHEY_COMPLEX, 1, (255, 255, 255), 2)\n",
    "        cv2.imshow('Flower Detection', textda)\n",
    "        \n",
    "    elif result[0][2]==1:\n",
    "        textr = cv2.putText(frame, \"Rose Flower\",org, cv2.FONT_HERSHEY_COMPLEX, 1, (255, 255, 255), 2)\n",
    "        \n",
    "        cv2.imshow('Flower Detection', textr)\n",
    "\n",
    "    elif result[0][3]==1:\n",
    "        texts = cv2.putText(frame, \"Sunflower\",org, cv2.FONT_HERSHEY_COMPLEX, 1, (255, 255, 255), 2)\n",
    "        cv2.imshow('Flower Detection', texts)\n",
    "        \n",
    "    elif result[0][4]==1:\n",
    "        texttu = cv2.putText(frame, \"Tulip Flower\",org, cv2.FONT_HERSHEY_COMPLEX, 1, (255, 255, 255), 2)\n",
    "        cv2.imshow('Flower Detection', texttu)\n",
    "        \n",
    "#     else:\n",
    "#         text = cv2.putText(frame, \"Plz! train first or use proper image\",org, cv2.FONT_HERSHEY_COMPLEX, 1, (255, 255, 255), 2)\n",
    "#         cv2.imshow('Flower Detection', text)\n",
    "        \n",
    "    key = cv2.waitKey(1)\n",
    "    if key == ord('s'):\n",
    "        break\n",
    "cap2.release()\n",
    "cv2.destroyAllWindows()"
   ]
  },
  {
   "cell_type": "code",
   "execution_count": 17,
   "id": "c56fd447",
   "metadata": {},
   "outputs": [
    {
     "data": {
      "text/plain": [
       "\"\\ntest_image = image.load_img('prediction/test.jpg',target_size=(64,64))\\ntest_image = image.img_to_array(test_image)\\ntest_image = np.expand_dims(test_image,axis=0)\\nresult = cnn.predict(test_image)\\ntraining_set.class_indices\""
      ]
     },
     "execution_count": 17,
     "metadata": {},
     "output_type": "execute_result"
    }
   ],
   "source": [
    "\"\"\"\n",
    "test_image = image.load_img('prediction/test.jpg',target_size=(64,64))\n",
    "test_image = image.img_to_array(test_image)\n",
    "test_image = np.expand_dims(test_image,axis=0)\n",
    "result = cnn.predict(test_image)\n",
    "training_set.class_indices\"\"\""
   ]
  },
  {
   "cell_type": "code",
   "execution_count": 18,
   "id": "3fbe0881",
   "metadata": {},
   "outputs": [
    {
     "data": {
      "text/plain": [
       "'if result[0][0]==1:\\n    print(\\'Daisy\\')\\nelif result[0][1]==1:\\n    print(\\'Dandelion\\')\\nelif result[0][2]==1:\\n    print(\\'Rose\\')\\nelif result[0][3]==1:\\n    print(\\'SunFlower\\')\\nelif result[0][4]==1:\\n    print(\"Tulip\")'"
      ]
     },
     "execution_count": 18,
     "metadata": {},
     "output_type": "execute_result"
    }
   ],
   "source": [
    "\"\"\"if result[0][0]==1:\n",
    "    print('Daisy')\n",
    "elif result[0][1]==1:\n",
    "    print('Dandelion')\n",
    "elif result[0][2]==1:\n",
    "    print('Rose')\n",
    "elif result[0][3]==1:\n",
    "    print('SunFlower')\n",
    "elif result[0][4]==1:\n",
    "    print(\"Tulip\")\"\"\""
   ]
  },
  {
   "cell_type": "code",
   "execution_count": null,
   "id": "2536d241",
   "metadata": {},
   "outputs": [],
   "source": []
  }
 ],
 "metadata": {
  "kernelspec": {
   "display_name": "v7",
   "language": "python",
   "name": "v7"
  },
  "language_info": {
   "codemirror_mode": {
    "name": "ipython",
    "version": 3
   },
   "file_extension": ".py",
   "mimetype": "text/x-python",
   "name": "python",
   "nbconvert_exporter": "python",
   "pygments_lexer": "ipython3",
   "version": "3.9.7"
  }
 },
 "nbformat": 4,
 "nbformat_minor": 5
}
